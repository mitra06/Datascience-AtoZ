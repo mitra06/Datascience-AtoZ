{
 "cells": [
  {
   "cell_type": "markdown",
   "id": "96e328d9",
   "metadata": {},
   "source": [
    "- Introduction\n",
    "- Installation\n",
    "- Ndarray\n",
    "- Data Types\n",
    "- Numpy Array\n",
    "- Indexing and Slicing\n",
    "- Broadcasting\n",
    "- Binary Operator\n",
    "- String Function\n",
    "- Mathematical Function\n",
    "- Airthmetic Function\n",
    "- Statistical Function\n",
    "- Linear Algebra"
   ]
  },
  {
   "cell_type": "markdown",
   "id": "8aa56b89",
   "metadata": {},
   "source": [
    "### Introduction\n",
    "\n",
    "> Numpy stands for Numerical Python. NumPy is the fundamental package for scientific computing in Python. It is a Python library that provides a multidimensional array object, various derived objects (such as matrices), and an assortment of routines for fast operations on arrays, including mathematical, logical, shape manipulation, sorting, selecting, I/O, discrete Fourier transforms, basic linear algebra, basic statistical operations, random simulation and much more.\n",
    "\n",
    "> At the core of the NumPy package, is the ndarray object. This encapsulates n-dimensional arrays of homogeneous\n",
    "data types, with many operations being performed in compiled code for performance. \n",
    "\n",
    "> There are several important differences between NumPy arrays and the standard Python sequences:\n",
    ">- NumPy arrays have a fixed size at creation, unlike Python lists (which can grow dynamically). Changing the\n",
    "size of an ndarray will create a new array and delete the original.\n",
    "> - The elements in a NumPy array are all required to be of the same data type, and thus will be the same size in\n",
    "memory. The exception: one can have arrays of (Python, including NumPy) objects, thereby allowing for arrays\n",
    "of different sized elements.\n",
    "> - NumPy arrays facilitate advanced mathematical and other types of operations on large numbers of data. Typically, such operations are executed more efficiently and with less code than is possible using Python’s built-in\n",
    "sequences.\n",
    "> - A growing plethora of scientific and mathematical Python-based packages are using NumPy arrays; though\n",
    "these typically support Python-sequence input, they convert such input to NumPy arrays prior to processing,\n",
    "and they often output NumPy arrays. In other words, in order to efficiently use much (perhaps even most)\n",
    "of today’s scientific/mathematical Python-based software, just knowing how to use Python’s built-in sequence\n",
    "types is insufficient - one also needs to know how to use NumPy arrays.\n",
    "\n",
    "\n",
    "### Why Numpy is fast?\n",
    "\n",
    "> Numpy arrays are densely packed arrays of homogeneous type. Python lists, by contrast, are arrays of pointers to objects, even when all of them are of the same type. So, you get the benefits of locality of reference.\n",
    "\n",
    ">Also, many Numpy operations are implemented in C, avoiding the general cost of loops in Python, pointer indirection and per-element dynamic type checking. The speed boost depends on which operations you're performing, but a few orders of magnitude isn't uncommon in number crunching programs."
   ]
  },
  {
   "cell_type": "code",
   "execution_count": 9,
   "id": "f1a8bdd9",
   "metadata": {},
   "outputs": [
    {
     "name": "stdout",
     "output_type": "stream",
     "text": [
      "0.5004489677693271\n",
      "Numpy 0.0019965171813964844\n",
      "0.5004489677693271\n",
      "list 0.005956888198852539\n"
     ]
    }
   ],
   "source": [
    "from time import time\n",
    "import numpy as np\n",
    "numpy_array = np.random.rand(100000)\n",
    "list_conv = list(numpy_array)\n",
    "\n",
    "start1 = time()\n",
    "numpy_mean = np.mean(numpy_array)\n",
    "print(numpy_mean)\n",
    "end = time()\n",
    "time_taken = end - start1\n",
    "print(\"Numpy\", time_taken)\n",
    "\n",
    "start_2 = time()\n",
    "list_mean = np.mean(list_conv)\n",
    "print(list_mean)\n",
    "end2= time()\n",
    "time_take_2 = end2-start_2\n",
    "print(\"list\", time_take_2)"
   ]
  },
  {
   "cell_type": "markdown",
   "id": "682409f1",
   "metadata": {},
   "source": [
    "### Installation\n",
    "`pip install numpy`"
   ]
  },
  {
   "cell_type": "markdown",
   "id": "ff6013f1",
   "metadata": {},
   "source": [
    "### Basic - Ndarray\n",
    "\n",
    "Numpy main object is the homogeneous multidimensional array. It is a table of element (usually number), all of the same type. In Numpy dimension are called axes.\n",
    "\n",
    "For example the coordinate of point in 3D space `[1, 2, 3]` has one axis. This axis has three element in it so we say that length of 3\n",
    "\n",
    "Numpy's array class is called ndarray. It is also known as the alias array.\n",
    "\n",
    "- `ndarray.ndim`  the number of axes (dimensions) of the array.\n",
    "    - **0-D array:**- O-D array is also called scalar, are simple element in the array (It has only element)\n",
    "    \n",
    "    - **1-D array:**- 1-D array is also called vector or uni-dimensional array (it has 1-D array as element)\n",
    "    \n",
    "    - **2-D array:**- 2-D array is also called matrix or 2nd order tensor (It has 1-D array as element)\n",
    "    \n",
    "    - **3-D array:**- 3-D array is also called 3rd order tensor or more than and equal to 3-D array called tensor (it has 2-D array as element)\n",
    "    \n",
    "\n",
    "- `ndarray.shape` the dimensions of the array. This is a tuple of integers indicating the size of the array in each dimension.  \n",
    "For a matrix with n rows and m columns, shape will be (n,m). The length of the shape tuple is\n",
    "therefore the number of axes, ndim.\n",
    "\n",
    "\n",
    "- `ndarray.size` the total number of elements of the array. This is equal to the product of the elements of shape.\n",
    "\n",
    "\n",
    "- `ndarray.dtype` an object describing the type of the elements in the array. One can create or specify dtype’s using standard Python types. Additionally NumPy provides types of its own. numpy.int32, numpy.int16, and\n",
    "numpy.float64 are some examples.\n",
    "\n",
    "\n",
    "- `ndarray.itemsize` the size in bytes of each element of the array. For example, an array of elements of type float64\n",
    "has itemsize 8 (=64/8), while one of type complex32 has itemsize 4 (=32/8). It is equivalent to\n",
    "ndarray.dtype.itemsize.\n",
    "\n",
    "\n",
    "- `ndarray.data` the buffer containing the actual elements of the array. Normally, we won’t need to use this attribute\n",
    "because we will access the elements in an array using indexing facilities."
   ]
  },
  {
   "cell_type": "code",
   "execution_count": 1,
   "id": "0c4ffbd8",
   "metadata": {},
   "outputs": [],
   "source": [
    "import numpy as np"
   ]
  },
  {
   "cell_type": "code",
   "execution_count": 2,
   "id": "1b0f0c10",
   "metadata": {},
   "outputs": [
    {
     "data": {
      "text/plain": [
       "array([[ 0,  1,  2,  3,  4,  5,  6,  7],\n",
       "       [ 8,  9, 10, 11, 12, 13, 14, 15]])"
      ]
     },
     "execution_count": 2,
     "metadata": {},
     "output_type": "execute_result"
    }
   ],
   "source": [
    "a = np.arange(16).reshape(2, 8)\n",
    "a"
   ]
  },
  {
   "cell_type": "code",
   "execution_count": 3,
   "id": "2f9284be",
   "metadata": {},
   "outputs": [
    {
     "data": {
      "text/plain": [
       "(2, 8)"
      ]
     },
     "execution_count": 3,
     "metadata": {},
     "output_type": "execute_result"
    }
   ],
   "source": [
    "a.shape"
   ]
  },
  {
   "cell_type": "code",
   "execution_count": 4,
   "id": "9e4def21",
   "metadata": {},
   "outputs": [
    {
     "data": {
      "text/plain": [
       "2"
      ]
     },
     "execution_count": 4,
     "metadata": {},
     "output_type": "execute_result"
    }
   ],
   "source": [
    "a.ndim"
   ]
  },
  {
   "cell_type": "code",
   "execution_count": 5,
   "id": "9d3e47ff",
   "metadata": {},
   "outputs": [
    {
     "data": {
      "text/plain": [
       "dtype('int32')"
      ]
     },
     "execution_count": 5,
     "metadata": {},
     "output_type": "execute_result"
    }
   ],
   "source": [
    "a.dtype"
   ]
  },
  {
   "cell_type": "code",
   "execution_count": 6,
   "id": "4ce4ffa6",
   "metadata": {},
   "outputs": [
    {
     "data": {
      "text/plain": [
       "4"
      ]
     },
     "execution_count": 6,
     "metadata": {},
     "output_type": "execute_result"
    }
   ],
   "source": [
    "a.itemsize"
   ]
  },
  {
   "cell_type": "code",
   "execution_count": 7,
   "id": "6b97dc06",
   "metadata": {},
   "outputs": [
    {
     "data": {
      "text/plain": [
       "16"
      ]
     },
     "execution_count": 7,
     "metadata": {},
     "output_type": "execute_result"
    }
   ],
   "source": [
    "a.size"
   ]
  },
  {
   "cell_type": "code",
   "execution_count": 8,
   "id": "ef9af318",
   "metadata": {},
   "outputs": [
    {
     "data": {
      "text/plain": [
       "numpy.ndarray"
      ]
     },
     "execution_count": 8,
     "metadata": {},
     "output_type": "execute_result"
    }
   ],
   "source": [
    "type(a)"
   ]
  },
  {
   "cell_type": "markdown",
   "id": "75fa96f1",
   "metadata": {},
   "source": [
    "### Array Creation\n",
    "\n",
    "1. we can create an array by the different ways\n",
    "2. array transforms sequences of sequences into two-dimensional arrays, sequences of sequences of sequences into\n",
    "three-dimensional arrays, and so on.\n",
    "\n",
    ">Often, the elements of an array are originally unknown, but its size is known. Hence, NumPy offers several functions to\n",
    "create arrays with initial placeholder content. These minimize the necessity of growing arrays, an expensive operation.\n",
    "The function zeros creates an array full of zeros, the function ones creates an array full of ones, and the function\n",
    "empty creates an array whose initial content is random and depends on the state of the memory. By default, the dtype\n",
    "of the created array is float64.\n",
    "\n",
    "##### Arange vs Linespace\n",
    "\n",
    ">When arange is used with floating point arguments, it is generally not possible to predict the number of elements\n",
    "obtained, due to the finite floating point precision. For this reason, it is usually better to use the function linspace\n",
    "that receives as an argument the number of elements that we want, instead of the step:\n"
   ]
  },
  {
   "cell_type": "code",
   "execution_count": 50,
   "id": "87ddef02",
   "metadata": {},
   "outputs": [
    {
     "data": {
      "text/plain": [
       "array([1, 3, 4, 5])"
      ]
     },
     "execution_count": 50,
     "metadata": {},
     "output_type": "execute_result"
    }
   ],
   "source": [
    "ar = np.array([1,3,4,5])\n",
    "ar"
   ]
  },
  {
   "cell_type": "code",
   "execution_count": 51,
   "id": "a6113274",
   "metadata": {},
   "outputs": [
    {
     "data": {
      "text/plain": [
       "(numpy.ndarray, dtype('int32'))"
      ]
     },
     "execution_count": 51,
     "metadata": {},
     "output_type": "execute_result"
    }
   ],
   "source": [
    "type(ar), ar.dtype"
   ]
  },
  {
   "cell_type": "code",
   "execution_count": 52,
   "id": "77bfdfdb",
   "metadata": {},
   "outputs": [
    {
     "data": {
      "text/plain": [
       "array([[1.5, 2. , 3. ],\n",
       "       [4. , 5. , 6. ]])"
      ]
     },
     "execution_count": 52,
     "metadata": {},
     "output_type": "execute_result"
    }
   ],
   "source": [
    "arr_1 = np.array([(1.5,2,3), (4,5,6)])\n",
    "arr_1"
   ]
  },
  {
   "cell_type": "code",
   "execution_count": 53,
   "id": "c4173138",
   "metadata": {},
   "outputs": [
    {
     "data": {
      "text/plain": [
       "array([[0., 0., 0., 0.],\n",
       "       [0., 0., 0., 0.],\n",
       "       [0., 0., 0., 0.]])"
      ]
     },
     "execution_count": 53,
     "metadata": {},
     "output_type": "execute_result"
    }
   ],
   "source": [
    "zero_array = np.zeros( (3,4) )\n",
    "zero_array"
   ]
  },
  {
   "cell_type": "code",
   "execution_count": 54,
   "id": "bec66a00",
   "metadata": {},
   "outputs": [
    {
     "data": {
      "text/plain": [
       "array([[1, 1, 1, 1],\n",
       "       [1, 1, 1, 1],\n",
       "       [1, 1, 1, 1]])"
      ]
     },
     "execution_count": 54,
     "metadata": {},
     "output_type": "execute_result"
    }
   ],
   "source": [
    "ones_array = np.ones( (3,4), dtype = np.int32)\n",
    "ones_array"
   ]
  },
  {
   "cell_type": "code",
   "execution_count": 55,
   "id": "43491736",
   "metadata": {},
   "outputs": [
    {
     "data": {
      "text/plain": [
       "dtype('int32')"
      ]
     },
     "execution_count": 55,
     "metadata": {},
     "output_type": "execute_result"
    }
   ],
   "source": [
    "ones_array.dtype"
   ]
  },
  {
   "cell_type": "code",
   "execution_count": 10,
   "id": "79c00646",
   "metadata": {},
   "outputs": [
    {
     "data": {
      "text/plain": [
       "array([[1.37962049e-306, 1.24610791e-306, 1.11260959e-306],\n",
       "       [1.69109959e-306, 9.34603679e-307, 1.42419802e-306],\n",
       "       [1.78019082e-306, 4.45061456e-308, 1.24612081e-306],\n",
       "       [1.37962049e-306, 9.34597567e-307, 1.29061821e-306],\n",
       "       [1.78019625e-306, 1.11255866e-306, 8.90098127e-307],\n",
       "       [9.34609790e-307, 3.91792279e-317, 0.00000000e+000]])"
      ]
     },
     "execution_count": 10,
     "metadata": {},
     "output_type": "execute_result"
    }
   ],
   "source": [
    "empty_array = np.empty((6,3))\n",
    "empty_array"
   ]
  },
  {
   "cell_type": "code",
   "execution_count": 57,
   "id": "5e64c557",
   "metadata": {},
   "outputs": [
    {
     "data": {
      "text/plain": [
       "array([ 4,  6,  8, 10, 12, 14, 16, 18])"
      ]
     },
     "execution_count": 57,
     "metadata": {},
     "output_type": "execute_result"
    }
   ],
   "source": [
    "arr_2 = np.arange(4, 20, 2)\n",
    "arr_2"
   ]
  },
  {
   "cell_type": "code",
   "execution_count": 29,
   "id": "336410c2",
   "metadata": {},
   "outputs": [
    {
     "data": {
      "text/plain": [
       "array([0.  , 0.25, 0.5 , 0.75, 1.  , 1.25, 1.5 , 1.75, 2.  ])"
      ]
     },
     "execution_count": 29,
     "metadata": {},
     "output_type": "execute_result"
    }
   ],
   "source": [
    "arr_3 = np.linspace( 0, 2, 9 )\n",
    "arr_3"
   ]
  },
  {
   "cell_type": "code",
   "execution_count": null,
   "id": "21a9a935",
   "metadata": {},
   "outputs": [],
   "source": []
  },
  {
   "cell_type": "markdown",
   "id": "117226f3",
   "metadata": {},
   "source": [
    "### Indexing Slicing and Iterating\n",
    "\n",
    "ndarry can be indexing using standard python way x[obj] syntax where x is arra and obj is the selection, element inside ndarray follows zero based index\n",
    "\n",
    "**Slicing:** Slicing in ndarray also work as python slicing `[start:stop:steps]`, by default `start` value is `0th index` `stop` is end length of array that means index would be n-1 where n is length of array, and `step` will take `1` at a time\n",
    "\n",
    "\n",
    "**Iterating** Iterating over multidimensional arrays is done with respect to the first axis"
   ]
  },
  {
   "cell_type": "code",
   "execution_count": 30,
   "id": "35101775",
   "metadata": {},
   "outputs": [
    {
     "data": {
      "text/plain": [
       "array([0, 1, 2, 3, 4, 5, 6, 7, 8, 9])"
      ]
     },
     "execution_count": 30,
     "metadata": {},
     "output_type": "execute_result"
    }
   ],
   "source": [
    "arr_4 = np.arange(10)\n",
    "arr_4"
   ]
  },
  {
   "cell_type": "code",
   "execution_count": 32,
   "id": "7a2682ed",
   "metadata": {},
   "outputs": [
    {
     "data": {
      "text/plain": [
       "4"
      ]
     },
     "execution_count": 32,
     "metadata": {},
     "output_type": "execute_result"
    }
   ],
   "source": [
    "#5th element\n",
    "arr_4[4]"
   ]
  },
  {
   "cell_type": "code",
   "execution_count": 34,
   "id": "91983399",
   "metadata": {},
   "outputs": [
    {
     "name": "stdout",
     "output_type": "stream",
     "text": [
      "[3 4 5 6 7 8 9]\n"
     ]
    }
   ],
   "source": [
    "#slcing\n",
    "arr_5 = np.array([1, 2, 3, 4, 5, 6, 7, 8, 9])\n",
    "\n",
    "print(arr_5[2:9])"
   ]
  },
  {
   "cell_type": "code",
   "execution_count": 35,
   "id": "0940cf10",
   "metadata": {},
   "outputs": [
    {
     "name": "stdout",
     "output_type": "stream",
     "text": [
      "[6 7 8]\n"
     ]
    }
   ],
   "source": [
    "#Negative Indexing\n",
    "print(arr_5[-4:-1])"
   ]
  },
  {
   "cell_type": "code",
   "execution_count": 36,
   "id": "3a8af15c",
   "metadata": {},
   "outputs": [
    {
     "name": "stdout",
     "output_type": "stream",
     "text": [
      "[3 5 7 9]\n"
     ]
    }
   ],
   "source": [
    "# Steps\n",
    "print(arr_5[2:9:2])"
   ]
  },
  {
   "cell_type": "code",
   "execution_count": 38,
   "id": "7a9ae292",
   "metadata": {},
   "outputs": [
    {
     "data": {
      "text/plain": [
       "array([[ 0,  1,  2,  3],\n",
       "       [ 4,  5,  6,  7],\n",
       "       [ 8,  9, 10, 11],\n",
       "       [12, 13, 14, 15],\n",
       "       [16, 17, 18, 19]])"
      ]
     },
     "execution_count": 38,
     "metadata": {},
     "output_type": "execute_result"
    }
   ],
   "source": [
    "arr_6 = np.arange(20).reshape(5, 4)\n",
    "arr_6"
   ]
  },
  {
   "cell_type": "code",
   "execution_count": 39,
   "id": "b9b7f502",
   "metadata": {},
   "outputs": [
    {
     "name": "stdout",
     "output_type": "stream",
     "text": [
      "[0 1 2 3]\n",
      "[4 5 6 7]\n",
      "[ 8  9 10 11]\n",
      "[12 13 14 15]\n",
      "[16 17 18 19]\n"
     ]
    }
   ],
   "source": [
    "for i in arr_6:\n",
    "    print(i)"
   ]
  },
  {
   "cell_type": "code",
   "execution_count": 41,
   "id": "97b48dea",
   "metadata": {},
   "outputs": [
    {
     "name": "stdout",
     "output_type": "stream",
     "text": [
      "0\n",
      "1\n",
      "2\n",
      "3\n",
      "4\n",
      "5\n",
      "6\n",
      "7\n",
      "8\n",
      "9\n",
      "10\n",
      "11\n",
      "12\n",
      "13\n",
      "14\n",
      "15\n",
      "16\n",
      "17\n",
      "18\n",
      "19\n"
     ]
    }
   ],
   "source": [
    "# flat iterate on each of the element\n",
    "for i in arr_6.flat:\n",
    "    print(i)"
   ]
  },
  {
   "cell_type": "code",
   "execution_count": 59,
   "id": "58e4812e",
   "metadata": {},
   "outputs": [
    {
     "name": "stdout",
     "output_type": "stream",
     "text": [
      "1\n",
      "2\n",
      "3\n",
      "4\n",
      "5\n",
      "6\n",
      "7\n",
      "8\n"
     ]
    }
   ],
   "source": [
    "arr_7 = np.array([[[1, 2], [3, 4]], [[5, 6], [7, 8]]])\n",
    "\n",
    "for x in np.nditer(arr_7):\n",
    "    print(x)"
   ]
  },
  {
   "cell_type": "code",
   "execution_count": 60,
   "id": "af3f227f",
   "metadata": {},
   "outputs": [
    {
     "name": "stdout",
     "output_type": "stream",
     "text": [
      "b'1'\n",
      "b'2'\n",
      "b'3'\n"
     ]
    }
   ],
   "source": [
    "arr_8 = np.array([1, 2, 3])\n",
    "\n",
    "for x in np.nditer(arr_8, flags=['buffered'], op_dtypes=['S']):\n",
    "    print(x)"
   ]
  },
  {
   "cell_type": "code",
   "execution_count": 61,
   "id": "d99ffc22",
   "metadata": {},
   "outputs": [
    {
     "name": "stdout",
     "output_type": "stream",
     "text": [
      "(0,) 1\n",
      "(1,) 2\n",
      "(2,) 3\n"
     ]
    }
   ],
   "source": [
    "arr_9 = np.array([1, 2, 3])\n",
    "\n",
    "for idx, x in np.ndenumerate(arr_9):\n",
    "    print(idx, x)"
   ]
  },
  {
   "cell_type": "code",
   "execution_count": 62,
   "id": "861363b1",
   "metadata": {},
   "outputs": [
    {
     "name": "stdout",
     "output_type": "stream",
     "text": [
      "[1 2 3 4 5 6]\n"
     ]
    }
   ],
   "source": [
    "arr_10 = np.array([1, 2, 3])\n",
    "\n",
    "arr_11 = np.array([4, 5, 6])\n",
    "\n",
    "arr_12 = np.concatenate((arr_10, arr_11))\n",
    "\n",
    "print(arr_12)"
   ]
  },
  {
   "cell_type": "code",
   "execution_count": 63,
   "id": "1bf0b183",
   "metadata": {},
   "outputs": [
    {
     "name": "stdout",
     "output_type": "stream",
     "text": [
      "[[1 2 5 6]\n",
      " [3 4 7 8]]\n"
     ]
    }
   ],
   "source": [
    "arr_13 = np.array([[1, 2], [3, 4]])\n",
    "\n",
    "arr_14 = np.array([[5, 6], [7, 8]])\n",
    "\n",
    "arr_15 = np.concatenate((arr_13, arr_14), axis=1)\n",
    "\n",
    "print(arr_15)"
   ]
  },
  {
   "cell_type": "code",
   "execution_count": 71,
   "id": "28b9fb7b",
   "metadata": {},
   "outputs": [
    {
     "name": "stdout",
     "output_type": "stream",
     "text": [
      "[[1 4]\n",
      " [2 5]\n",
      " [3 6]]\n"
     ]
    }
   ],
   "source": [
    "arr_16 = np.array([1, 2, 3])\n",
    "\n",
    "arr_17 = np.array([4, 5, 6])\n",
    "\n",
    "arr_18 = np.stack((arr_16, arr_17), axis=1)\n",
    "\n",
    "print(arr_18)"
   ]
  },
  {
   "cell_type": "code",
   "execution_count": 11,
   "id": "4190e49c",
   "metadata": {},
   "outputs": [
    {
     "name": "stdout",
     "output_type": "stream",
     "text": [
      "[[1 2 3]\n",
      " [4 5 6]]\n"
     ]
    }
   ],
   "source": [
    "arr_16 = np.array([1, 2, 3])\n",
    "\n",
    "arr_17 = np.array([4, 5, 6])\n",
    "\n",
    "arr_18 = np.stack((arr_16, arr_17), axis=0)\n",
    "\n",
    "print(arr_18)"
   ]
  },
  {
   "cell_type": "code",
   "execution_count": 72,
   "id": "29fe02ba",
   "metadata": {},
   "outputs": [
    {
     "data": {
      "text/plain": [
       "[array([1, 2]), array([3, 4]), array([5, 6])]"
      ]
     },
     "execution_count": 72,
     "metadata": {},
     "output_type": "execute_result"
    }
   ],
   "source": [
    "arr_19 = np.array([1, 2, 3, 4, 5, 6])\n",
    "\n",
    "arr_20 = np.array_split(arr_19, 3)\n",
    "arr_20"
   ]
  },
  {
   "cell_type": "code",
   "execution_count": 73,
   "id": "d802de49",
   "metadata": {},
   "outputs": [
    {
     "name": "stdout",
     "output_type": "stream",
     "text": [
      "[1 2 3 4 5 6]\n"
     ]
    }
   ],
   "source": [
    "print(np.sort(arr_19))"
   ]
  },
  {
   "cell_type": "markdown",
   "id": "683f8950",
   "metadata": {},
   "source": [
    "### Broadcasting\n",
    "\n",
    ">The term broadcasting refers to the ability of NumPy to treat arrays of different shapes during arithmetic operations. Arithmetic operations on arrays are usually done on corresponding elements. If two arrays are of exactly the same shape, then these operations are smoothly performed\n",
    "\n",
    ">If the dimensions of two arrays are dissimilar, element-to-element operations are not possible. However, operations on arrays of non-similar shapes is still possible in NumPy, because of the broadcasting capability. The smaller array is broadcast to the size of the larger array so that they have compatible shapes.\n",
    "\n"
   ]
  },
  {
   "cell_type": "code",
   "execution_count": 75,
   "id": "7183d079",
   "metadata": {},
   "outputs": [
    {
     "name": "stdout",
     "output_type": "stream",
     "text": [
      "First array:\n",
      "[[ 0.  0.  0.]\n",
      " [10. 10. 10.]\n",
      " [20. 20. 20.]\n",
      " [30. 30. 30.]]\n",
      "Second array:\n",
      "[1. 2. 3.]\n",
      "First Array + Second Array\n",
      "[[ 1.  2.  3.]\n",
      " [11. 12. 13.]\n",
      " [21. 22. 23.]\n",
      " [31. 32. 33.]]\n"
     ]
    }
   ],
   "source": [
    "a = np.array([[0.0,0.0,0.0],[10.0,10.0,10.0],[20.0,20.0,20.0],[30.0,30.0,30.0]]) \n",
    "b = np.array([1.0,2.0,3.0])  \n",
    "   \n",
    "print('First array:') \n",
    "print (a) \n",
    "  \n",
    "print('Second array:') \n",
    "print(b)\n",
    "\n",
    "print('First Array + Second Array' )\n",
    "print(a + b)"
   ]
  },
  {
   "cell_type": "code",
   "execution_count": null,
   "id": "a0f08fa4",
   "metadata": {},
   "outputs": [],
   "source": []
  }
 ],
 "metadata": {
  "kernelspec": {
   "display_name": "Python 3 (ipykernel)",
   "language": "python",
   "name": "python3"
  },
  "language_info": {
   "codemirror_mode": {
    "name": "ipython",
    "version": 3
   },
   "file_extension": ".py",
   "mimetype": "text/x-python",
   "name": "python",
   "nbconvert_exporter": "python",
   "pygments_lexer": "ipython3",
   "version": "3.9.7"
  }
 },
 "nbformat": 4,
 "nbformat_minor": 5
}
