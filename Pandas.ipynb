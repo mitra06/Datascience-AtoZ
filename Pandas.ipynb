{
 "cells": [
  {
   "attachments": {
    "image-2.png": {
     "image/png": "[encoded data removed]"
    },
    "image.png": {
     "image/png": "[encoded data removed]"
    }
   },
   "cell_type": "markdown",
   "id": "40f1779c",
   "metadata": {},
   "source": [
    "### Pandas Introduction \n",
    "\n",
    ">Pandas is basically an open source library that is mainly working with labeled or table data. Pandas is used for data analysis, data manipulation and wragling types of work. \n",
    "\n",
    ">Pandas is an open source library, It built on top of the numpy.\n",
    "\n",
    ">It provides different data structure and operations to manipulate data (lebeled or table data, time series data etc)\n",
    "\n",
    "#### Advantages\n",
    "\n",
    "- Fast and efficient for manipulating data\n",
    "- Can import different file object like csv, excel, parquet, text etc\n",
    "- Size mutable it means we can add or remove column or rows from dataset\n",
    "- dataset can be merge, join and group operations according to our need\n",
    "- time series manipulation and easy hendling missing values\n",
    "\n",
    "\n",
    "### Installation\n",
    "`pip install pandas`\n",
    "\n",
    "### Data Structure\n",
    "\n",
    "**Pandas basically provides three different types of data structure for manipulation data**\n",
    "1. Series\n",
    "2. DataFrame\n",
    "3. Panel (not frequent used)\n",
    "\n",
    "\n",
    "#### Series\n",
    "\n",
    "Pandas Series is a one dimensional label data or array capable of holding data of any types like Integer, String, Float, Python Object etc. Pandas Series is nothing but a column in excel sheet or in a table\n",
    "\n",
    "![image.png](attachment:image.png)\n",
    "\n",
    "#### DataFrame\n",
    "\n",
    "Pandas dataFrame is nothing but a two dimensional tabular data structure with labled axes row and columns.\n",
    "\n",
    "![image-2.png](attachment:image-2.png)\n",
    "\n",
    "In rel world we generally create dataframe either from some storage and storage can be csv file, excel file, parquet file, sql and apart from that we can also create it from list, dictionary, tuple etc"
   ]
  },
  {
   "cell_type": "code",
   "execution_count": 1,
   "id": "5ebcabb0",
   "metadata": {},
   "outputs": [],
   "source": [
    "import pandas as pd"
   ]
  },
  {
   "cell_type": "code",
   "execution_count": 2,
   "id": "ef204cb1",
   "metadata": {},
   "outputs": [
    {
     "data": {
      "text/plain": [
       "'1.1.5'"
      ]
     },
     "execution_count": 2,
     "metadata": {},
     "output_type": "execute_result"
    }
   ],
   "source": [
    "pd.__version__"
   ]
  },
  {
   "cell_type": "code",
   "execution_count": 4,
   "id": "c8dcb853",
   "metadata": {},
   "outputs": [],
   "source": [
    "import numpy as np"
   ]
  },
  {
   "cell_type": "markdown",
   "id": "20af1827",
   "metadata": {},
   "source": [
    "### Series"
   ]
  },
  {
   "cell_type": "code",
   "execution_count": 6,
   "id": "eaacee3d",
   "metadata": {},
   "outputs": [
    {
     "data": {
      "text/plain": [
       "array(['Chandan', 'Nitish', 'Ritesh', 'Satyam', 'Nazim'], dtype='<U7')"
      ]
     },
     "execution_count": 6,
     "metadata": {},
     "output_type": "execute_result"
    }
   ],
   "source": [
    "#Creating a Series from numpy array\n",
    "\n",
    "numpy_array = np.array(['Chandan', 'Nitish', 'Ritesh', 'Satyam', 'Nazim'])\n",
    "numpy_array"
   ]
  },
  {
   "cell_type": "code",
   "execution_count": 8,
   "id": "b97e69e3",
   "metadata": {},
   "outputs": [
    {
     "data": {
      "text/plain": [
       "0    Chandan\n",
       "1     Nitish\n",
       "2     Ritesh\n",
       "3     Satyam\n",
       "4      Nazim\n",
       "dtype: object"
      ]
     },
     "execution_count": 8,
     "metadata": {},
     "output_type": "execute_result"
    }
   ],
   "source": [
    "pandas_series = pd.Series(numpy_array, )\n",
    "pandas_series"
   ]
  },
  {
   "cell_type": "code",
   "execution_count": 9,
   "id": "7781432f",
   "metadata": {},
   "outputs": [
    {
     "data": {
      "text/plain": [
       "100    Chandan\n",
       "101     Nitish\n",
       "102     Ritesh\n",
       "103     Satyam\n",
       "104      Nazim\n",
       "dtype: object"
      ]
     },
     "execution_count": 9,
     "metadata": {},
     "output_type": "execute_result"
    }
   ],
   "source": [
    "pandas_series_1 = pd.Series(numpy_array, index=[100, 101, 102, 103, 104])\n",
    "pandas_series_1"
   ]
  },
  {
   "cell_type": "code",
   "execution_count": 12,
   "id": "cdce006b",
   "metadata": {},
   "outputs": [
    {
     "data": {
      "text/plain": [
       "0     Apple\n",
       "1    Banana\n",
       "2    Grapes\n",
       "3    Orange\n",
       "Name: Fruit, dtype: object"
      ]
     },
     "execution_count": 12,
     "metadata": {},
     "output_type": "execute_result"
    }
   ],
   "source": [
    "list_Series = pd.Series(['Apple', 'Banana', 'Grapes', 'Orange'], name = \"Fruit\")\n",
    "list_Series"
   ]
  },
  {
   "cell_type": "code",
   "execution_count": 14,
   "id": "1079bee3",
   "metadata": {},
   "outputs": [
    {
     "data": {
      "text/plain": [
       "0    Mitra\n",
       "1    Patna\n",
       "dtype: object"
      ]
     },
     "execution_count": 14,
     "metadata": {},
     "output_type": "execute_result"
    }
   ],
   "source": [
    "dict_series = pd.Series({0:\"Mitra\", 1:\"Patna\"})\n",
    "dict_series"
   ]
  },
  {
   "cell_type": "code",
   "execution_count": 15,
   "id": "36f7da3d",
   "metadata": {},
   "outputs": [
    {
     "data": {
      "text/plain": [
       "1    5\n",
       "2    5\n",
       "3    5\n",
       "4    5\n",
       "dtype: int64"
      ]
     },
     "execution_count": 15,
     "metadata": {},
     "output_type": "execute_result"
    }
   ],
   "source": [
    "scalar_series = pd.Series(5, index=[1,2,3,4])\n",
    "scalar_series"
   ]
  },
  {
   "cell_type": "code",
   "execution_count": 20,
   "id": "652276e9",
   "metadata": {},
   "outputs": [
    {
     "data": {
      "text/plain": [
       "0     Apple\n",
       "1    Banana\n",
       "2    Grapes\n",
       "3    Orange\n",
       "Name: Fruit, dtype: object"
      ]
     },
     "execution_count": 20,
     "metadata": {},
     "output_type": "execute_result"
    }
   ],
   "source": [
    "list_Series"
   ]
  },
  {
   "cell_type": "code",
   "execution_count": 19,
   "id": "f9994eea",
   "metadata": {},
   "outputs": [
    {
     "data": {
      "text/plain": [
       "'Apple'"
      ]
     },
     "execution_count": 19,
     "metadata": {},
     "output_type": "execute_result"
    }
   ],
   "source": [
    "list_Series[0]"
   ]
  },
  {
   "cell_type": "code",
   "execution_count": 21,
   "id": "671d84f2",
   "metadata": {},
   "outputs": [
    {
     "data": {
      "text/plain": [
       "'Banana'"
      ]
     },
     "execution_count": 21,
     "metadata": {},
     "output_type": "execute_result"
    }
   ],
   "source": [
    "list_Series[1]"
   ]
  },
  {
   "cell_type": "code",
   "execution_count": 22,
   "id": "77adc067",
   "metadata": {},
   "outputs": [
    {
     "data": {
      "text/plain": [
       "0     Apple\n",
       "1    Banana\n",
       "Name: Fruit, dtype: object"
      ]
     },
     "execution_count": 22,
     "metadata": {},
     "output_type": "execute_result"
    }
   ],
   "source": [
    "list_Series[0:2]"
   ]
  },
  {
   "cell_type": "code",
   "execution_count": 23,
   "id": "668139f5",
   "metadata": {},
   "outputs": [
    {
     "data": {
      "text/plain": [
       "0     Apple\n",
       "1    Banana\n",
       "2    Grapes\n",
       "Name: Fruit, dtype: object"
      ]
     },
     "execution_count": 23,
     "metadata": {},
     "output_type": "execute_result"
    }
   ],
   "source": [
    "list_Series.loc[0:2]"
   ]
  },
  {
   "cell_type": "code",
   "execution_count": 24,
   "id": "2b9a2c4f",
   "metadata": {},
   "outputs": [
    {
     "data": {
      "text/plain": [
       "0     Apple\n",
       "1    Banana\n",
       "Name: Fruit, dtype: object"
      ]
     },
     "execution_count": 24,
     "metadata": {},
     "output_type": "execute_result"
    }
   ],
   "source": [
    "list_Series.iloc[0:2]"
   ]
  },
  {
   "cell_type": "code",
   "execution_count": 25,
   "id": "82a8e629",
   "metadata": {},
   "outputs": [
    {
     "data": {
      "text/plain": [
       "['Apple', 'Banana', 'Grapes', 'Orange']"
      ]
     },
     "execution_count": 25,
     "metadata": {},
     "output_type": "execute_result"
    }
   ],
   "source": [
    "series_list = list_Series.to_list()\n",
    "series_list"
   ]
  },
  {
   "cell_type": "code",
   "execution_count": 26,
   "id": "5d5e1e07",
   "metadata": {},
   "outputs": [
    {
     "data": {
      "text/plain": [
       "{0: 'Apple', 1: 'Banana', 2: 'Grapes', 3: 'Orange'}"
      ]
     },
     "execution_count": 26,
     "metadata": {},
     "output_type": "execute_result"
    }
   ],
   "source": [
    "series_dict = list_Series.to_dict()\n",
    "series_dict"
   ]
  },
  {
   "cell_type": "code",
   "execution_count": 31,
   "id": "2d5b781f",
   "metadata": {},
   "outputs": [
    {
     "data": {
      "text/plain": [
       "a         Bihar\n",
       "b     Jharkhand\n",
       "c            UP\n",
       "d         Delhi\n",
       "e        Punjab\n",
       "f       Hatyana\n",
       "a    Maharastra\n",
       "b     Rajasthan\n",
       "dtype: object"
      ]
     },
     "execution_count": 31,
     "metadata": {},
     "output_type": "execute_result"
    }
   ],
   "source": [
    "state = ['Bihar', 'Jharkhand', 'UP', \"Delhi\", 'Punjab', 'Hatyana', 'Maharastra', 'Rajasthan']\n",
    "state_series = pd.Series(state, index = list('abcdefab'))\n",
    "state_series"
   ]
  },
  {
   "cell_type": "code",
   "execution_count": 32,
   "id": "e9c4b7ca",
   "metadata": {},
   "outputs": [
    {
     "data": {
      "text/plain": [
       "a         Bihar\n",
       "a    Maharastra\n",
       "dtype: object"
      ]
     },
     "execution_count": 32,
     "metadata": {},
     "output_type": "execute_result"
    }
   ],
   "source": [
    "state_series['a']"
   ]
  },
  {
   "cell_type": "code",
   "execution_count": 33,
   "id": "b7b2cd3d",
   "metadata": {},
   "outputs": [
    {
     "data": {
      "text/plain": [
       "b    Jharkhand\n",
       "b    Rajasthan\n",
       "dtype: object"
      ]
     },
     "execution_count": 33,
     "metadata": {},
     "output_type": "execute_result"
    }
   ],
   "source": [
    "state_series['b'] "
   ]
  },
  {
   "cell_type": "code",
   "execution_count": 34,
   "id": "f202da10",
   "metadata": {},
   "outputs": [
    {
     "data": {
      "text/plain": [
       "'Jharkhand'"
      ]
     },
     "execution_count": 34,
     "metadata": {},
     "output_type": "execute_result"
    }
   ],
   "source": [
    "state_series[1]"
   ]
  },
  {
   "cell_type": "code",
   "execution_count": 35,
   "id": "8428ecca",
   "metadata": {},
   "outputs": [
    {
     "data": {
      "text/plain": [
       "b    Gujarat\n",
       "b    Gujarat\n",
       "dtype: object"
      ]
     },
     "execution_count": 35,
     "metadata": {},
     "output_type": "execute_result"
    }
   ],
   "source": [
    "state_series['b'] = \"Gujarat\"\n",
    "state_series['b']"
   ]
  },
  {
   "cell_type": "code",
   "execution_count": 36,
   "id": "6aad800a",
   "metadata": {},
   "outputs": [
    {
     "data": {
      "text/plain": [
       "a         Bihar\n",
       "b       Gujarat\n",
       "c            UP\n",
       "d         Delhi\n",
       "e        Punjab\n",
       "f       Hatyana\n",
       "a    Maharastra\n",
       "b       Gujarat\n",
       "dtype: object"
      ]
     },
     "execution_count": 36,
     "metadata": {},
     "output_type": "execute_result"
    }
   ],
   "source": [
    "state_series"
   ]
  },
  {
   "cell_type": "code",
   "execution_count": 37,
   "id": "e7579678",
   "metadata": {},
   "outputs": [
    {
     "data": {
      "text/plain": [
       "pandas.core.series.Series"
      ]
     },
     "execution_count": 37,
     "metadata": {},
     "output_type": "execute_result"
    }
   ],
   "source": [
    "type(state_series)"
   ]
  },
  {
   "cell_type": "code",
   "execution_count": 38,
   "id": "0773f4c7",
   "metadata": {},
   "outputs": [
    {
     "data": {
      "text/plain": [
       "(8,)"
      ]
     },
     "execution_count": 38,
     "metadata": {},
     "output_type": "execute_result"
    }
   ],
   "source": [
    "state_series.shape"
   ]
  },
  {
   "cell_type": "code",
   "execution_count": 39,
   "id": "dc704b39",
   "metadata": {},
   "outputs": [
    {
     "data": {
      "text/plain": [
       "8"
      ]
     },
     "execution_count": 39,
     "metadata": {},
     "output_type": "execute_result"
    }
   ],
   "source": [
    "state_series.size"
   ]
  },
  {
   "cell_type": "code",
   "execution_count": 40,
   "id": "d4a75dc8",
   "metadata": {},
   "outputs": [
    {
     "name": "stdout",
     "output_type": "stream",
     "text": [
      "Gujarat\n"
     ]
    }
   ],
   "source": [
    "print(state_series[len(state_series)-1])"
   ]
  },
  {
   "cell_type": "code",
   "execution_count": 41,
   "id": "4958738f",
   "metadata": {},
   "outputs": [
    {
     "name": "stdout",
     "output_type": "stream",
     "text": [
      "Maharastra\n"
     ]
    }
   ],
   "source": [
    "print(state_series[len(state_series)-2]) #8-2=6"
   ]
  },
  {
   "cell_type": "code",
   "execution_count": 42,
   "id": "66161a89",
   "metadata": {},
   "outputs": [
    {
     "data": {
      "text/plain": [
       "8"
      ]
     },
     "execution_count": 42,
     "metadata": {},
     "output_type": "execute_result"
    }
   ],
   "source": [
    "len(state_series)"
   ]
  },
  {
   "cell_type": "markdown",
   "id": "d7fb8147",
   "metadata": {},
   "source": [
    "#### DataFrame"
   ]
  },
  {
   "cell_type": "code",
   "execution_count": 44,
   "id": "93840c4b",
   "metadata": {},
   "outputs": [
    {
     "data": {
      "text/html": [
       "<div>\n",
       "<style scoped>\n",
       "    .dataframe tbody tr th:only-of-type {\n",
       "        vertical-align: middle;\n",
       "    }\n",
       "\n",
       "    .dataframe tbody tr th {\n",
       "        vertical-align: top;\n",
       "    }\n",
       "\n",
       "    .dataframe thead th {\n",
       "        text-align: right;\n",
       "    }\n",
       "</style>\n",
       "<table border=\"1\" class=\"dataframe\">\n",
       "  <thead>\n",
       "    <tr style=\"text-align: right;\">\n",
       "      <th></th>\n",
       "      <th>Country</th>\n",
       "      <th>Year</th>\n",
       "      <th>Captain</th>\n",
       "    </tr>\n",
       "  </thead>\n",
       "  <tbody>\n",
       "    <tr>\n",
       "      <th>0</th>\n",
       "      <td>India</td>\n",
       "      <td>2011</td>\n",
       "      <td>MS Dhoni</td>\n",
       "    </tr>\n",
       "    <tr>\n",
       "      <th>1</th>\n",
       "      <td>Australia</td>\n",
       "      <td>2015</td>\n",
       "      <td>M Clark</td>\n",
       "    </tr>\n",
       "    <tr>\n",
       "      <th>2</th>\n",
       "      <td>Pakistan</td>\n",
       "      <td>1992</td>\n",
       "      <td>Imran Khan</td>\n",
       "    </tr>\n",
       "    <tr>\n",
       "      <th>3</th>\n",
       "      <td>England</td>\n",
       "      <td>2019</td>\n",
       "      <td>Eion Morgan</td>\n",
       "    </tr>\n",
       "    <tr>\n",
       "      <th>4</th>\n",
       "      <td>Westindies</td>\n",
       "      <td>1987</td>\n",
       "      <td>Viv Richard</td>\n",
       "    </tr>\n",
       "    <tr>\n",
       "      <th>5</th>\n",
       "      <td>Srilanka</td>\n",
       "      <td>1996</td>\n",
       "      <td>Arjun Ranatunga</td>\n",
       "    </tr>\n",
       "  </tbody>\n",
       "</table>\n",
       "</div>"
      ],
      "text/plain": [
       "      Country  Year          Captain\n",
       "0       India  2011         MS Dhoni\n",
       "1   Australia  2015          M Clark\n",
       "2    Pakistan  1992       Imran Khan\n",
       "3     England  2019      Eion Morgan\n",
       "4  Westindies  1987      Viv Richard\n",
       "5    Srilanka  1996  Arjun Ranatunga"
      ]
     },
     "execution_count": 44,
     "metadata": {},
     "output_type": "execute_result"
    }
   ],
   "source": [
    "dict_df = { 'Country': ['India', 'Australia', 'Pakistan', 'England', 'Westindies', 'Srilanka'],\n",
    "           'Year':[2011, 2015, 1992, 2019, 1987, 1996],\n",
    "            'Captain':['MS Dhoni', 'M Clark', 'Imran Khan', 'Eion Morgan','Viv Richard', 'Arjun Ranatunga']\n",
    "          }\n",
    "df_dict = pd.DataFrame(dict_df)\n",
    "df_dict"
   ]
  },
  {
   "cell_type": "code",
   "execution_count": 45,
   "id": "5658c6e7",
   "metadata": {},
   "outputs": [
    {
     "name": "stdout",
     "output_type": "stream",
     "text": [
      "<class 'pandas.core.frame.DataFrame'>\n"
     ]
    }
   ],
   "source": [
    "print(type(df_dict))"
   ]
  },
  {
   "cell_type": "code",
   "execution_count": 82,
   "id": "4d61bacd",
   "metadata": {},
   "outputs": [
    {
     "data": {
      "text/plain": [
       "[['India', 2011, 'MS Dhoni'],\n",
       " ['Australia', 2015, 'M Clark'],\n",
       " ['Pakistan', 1992, 'Imran Khan'],\n",
       " ['England', 2019, 'Eion Morgan'],\n",
       " ['Westindies', 1987, 'Viv Richard'],\n",
       " ['Srilanka', 1999, 'Arjun Ranatunga']]"
      ]
     },
     "execution_count": 82,
     "metadata": {},
     "output_type": "execute_result"
    }
   ],
   "source": [
    "#create dataframe from list of list\n",
    "list_df = [['India',2011,'MS Dhoni'], ['Australia', 2015,'M Clark'], ['Pakistan', 1992, 'Imran Khan'],['England', 2019, 'Eion Morgan'], ['Westindies', 1987, 'Viv Richard'], ['Srilanka', 1999, 'Arjun Ranatunga']]\n",
    "list_df"
   ]
  },
  {
   "cell_type": "code",
   "execution_count": 83,
   "id": "9c7edcb8",
   "metadata": {},
   "outputs": [
    {
     "name": "stdout",
     "output_type": "stream",
     "text": [
      "      Country  Year          Captain\n",
      "0       India  2011         MS Dhoni\n",
      "1   Australia  2015          M Clark\n",
      "2    Pakistan  1992       Imran Khan\n",
      "3     England  2019      Eion Morgan\n",
      "4  Westindies  1987      Viv Richard\n",
      "5    Srilanka  1999  Arjun Ranatunga\n"
     ]
    }
   ],
   "source": [
    "df_list = pd.DataFrame(list_df, columns= ['Country', 'Year', 'Captain'])\n",
    "print(df_list)"
   ]
  },
  {
   "cell_type": "code",
   "execution_count": 84,
   "id": "6ffb86d4",
   "metadata": {},
   "outputs": [
    {
     "name": "stdout",
     "output_type": "stream",
     "text": [
      "0         India\n",
      "1     Australia\n",
      "2      Pakistan\n",
      "3       England\n",
      "4    Westindies\n",
      "5      Srilanka\n",
      "Name: Country, dtype: object\n"
     ]
    }
   ],
   "source": [
    "country=df_list['Country']\n",
    "print(country)"
   ]
  },
  {
   "cell_type": "code",
   "execution_count": 85,
   "id": "c61a91bc",
   "metadata": {},
   "outputs": [
    {
     "data": {
      "text/plain": [
       "pandas.core.series.Series"
      ]
     },
     "execution_count": 85,
     "metadata": {},
     "output_type": "execute_result"
    }
   ],
   "source": [
    "type(country)"
   ]
  },
  {
   "cell_type": "code",
   "execution_count": 86,
   "id": "356fd5e5",
   "metadata": {},
   "outputs": [
    {
     "data": {
      "text/html": [
       "<div>\n",
       "<style scoped>\n",
       "    .dataframe tbody tr th:only-of-type {\n",
       "        vertical-align: middle;\n",
       "    }\n",
       "\n",
       "    .dataframe tbody tr th {\n",
       "        vertical-align: top;\n",
       "    }\n",
       "\n",
       "    .dataframe thead th {\n",
       "        text-align: right;\n",
       "    }\n",
       "</style>\n",
       "<table border=\"1\" class=\"dataframe\">\n",
       "  <thead>\n",
       "    <tr style=\"text-align: right;\">\n",
       "      <th></th>\n",
       "      <th>Country</th>\n",
       "    </tr>\n",
       "  </thead>\n",
       "  <tbody>\n",
       "    <tr>\n",
       "      <th>0</th>\n",
       "      <td>India</td>\n",
       "    </tr>\n",
       "    <tr>\n",
       "      <th>1</th>\n",
       "      <td>Australia</td>\n",
       "    </tr>\n",
       "    <tr>\n",
       "      <th>2</th>\n",
       "      <td>Pakistan</td>\n",
       "    </tr>\n",
       "    <tr>\n",
       "      <th>3</th>\n",
       "      <td>England</td>\n",
       "    </tr>\n",
       "    <tr>\n",
       "      <th>4</th>\n",
       "      <td>Westindies</td>\n",
       "    </tr>\n",
       "    <tr>\n",
       "      <th>5</th>\n",
       "      <td>Srilanka</td>\n",
       "    </tr>\n",
       "  </tbody>\n",
       "</table>\n",
       "</div>"
      ],
      "text/plain": [
       "      Country\n",
       "0       India\n",
       "1   Australia\n",
       "2    Pakistan\n",
       "3     England\n",
       "4  Westindies\n",
       "5    Srilanka"
      ]
     },
     "execution_count": 86,
     "metadata": {},
     "output_type": "execute_result"
    }
   ],
   "source": [
    "country_df = df_list[['Country']]\n",
    "country_df"
   ]
  },
  {
   "cell_type": "code",
   "execution_count": 87,
   "id": "3783c44f",
   "metadata": {},
   "outputs": [
    {
     "data": {
      "text/plain": [
       "pandas.core.frame.DataFrame"
      ]
     },
     "execution_count": 87,
     "metadata": {},
     "output_type": "execute_result"
    }
   ],
   "source": [
    "type(country_df)"
   ]
  },
  {
   "cell_type": "code",
   "execution_count": 88,
   "id": "556b0a13",
   "metadata": {},
   "outputs": [],
   "source": [
    "df_val = df_list[['Country', 'Captain']]"
   ]
  },
  {
   "cell_type": "code",
   "execution_count": 89,
   "id": "dd4ef9f3",
   "metadata": {},
   "outputs": [
    {
     "data": {
      "text/html": [
       "<div>\n",
       "<style scoped>\n",
       "    .dataframe tbody tr th:only-of-type {\n",
       "        vertical-align: middle;\n",
       "    }\n",
       "\n",
       "    .dataframe tbody tr th {\n",
       "        vertical-align: top;\n",
       "    }\n",
       "\n",
       "    .dataframe thead th {\n",
       "        text-align: right;\n",
       "    }\n",
       "</style>\n",
       "<table border=\"1\" class=\"dataframe\">\n",
       "  <thead>\n",
       "    <tr style=\"text-align: right;\">\n",
       "      <th></th>\n",
       "      <th>Country</th>\n",
       "      <th>Captain</th>\n",
       "    </tr>\n",
       "  </thead>\n",
       "  <tbody>\n",
       "    <tr>\n",
       "      <th>0</th>\n",
       "      <td>India</td>\n",
       "      <td>MS Dhoni</td>\n",
       "    </tr>\n",
       "    <tr>\n",
       "      <th>1</th>\n",
       "      <td>Australia</td>\n",
       "      <td>M Clark</td>\n",
       "    </tr>\n",
       "    <tr>\n",
       "      <th>2</th>\n",
       "      <td>Pakistan</td>\n",
       "      <td>Imran Khan</td>\n",
       "    </tr>\n",
       "    <tr>\n",
       "      <th>3</th>\n",
       "      <td>England</td>\n",
       "      <td>Eion Morgan</td>\n",
       "    </tr>\n",
       "    <tr>\n",
       "      <th>4</th>\n",
       "      <td>Westindies</td>\n",
       "      <td>Viv Richard</td>\n",
       "    </tr>\n",
       "    <tr>\n",
       "      <th>5</th>\n",
       "      <td>Srilanka</td>\n",
       "      <td>Arjun Ranatunga</td>\n",
       "    </tr>\n",
       "  </tbody>\n",
       "</table>\n",
       "</div>"
      ],
      "text/plain": [
       "      Country          Captain\n",
       "0       India         MS Dhoni\n",
       "1   Australia          M Clark\n",
       "2    Pakistan       Imran Khan\n",
       "3     England      Eion Morgan\n",
       "4  Westindies      Viv Richard\n",
       "5    Srilanka  Arjun Ranatunga"
      ]
     },
     "execution_count": 89,
     "metadata": {},
     "output_type": "execute_result"
    }
   ],
   "source": [
    "df_val"
   ]
  },
  {
   "cell_type": "code",
   "execution_count": 90,
   "id": "b825fb51",
   "metadata": {},
   "outputs": [
    {
     "data": {
      "text/plain": [
       "(6, 3)"
      ]
     },
     "execution_count": 90,
     "metadata": {},
     "output_type": "execute_result"
    }
   ],
   "source": [
    "df_list.shape"
   ]
  },
  {
   "cell_type": "code",
   "execution_count": 91,
   "id": "d85bc4b1",
   "metadata": {},
   "outputs": [
    {
     "name": "stdout",
     "output_type": "stream",
     "text": [
      "      Country  Year          Captain\n",
      "0       India  2011         MS Dhoni\n",
      "1   Australia  2015          M Clark\n",
      "2    Pakistan  1992       Imran Khan\n",
      "3     England  2019      Eion Morgan\n",
      "4  Westindies  1987      Viv Richard\n",
      "5    Srilanka  1999  Arjun Ranatunga\n"
     ]
    }
   ],
   "source": [
    "print(df_list)"
   ]
  },
  {
   "cell_type": "code",
   "execution_count": 92,
   "id": "ab640d68",
   "metadata": {},
   "outputs": [
    {
     "data": {
      "text/html": [
       "<div>\n",
       "<style scoped>\n",
       "    .dataframe tbody tr th:only-of-type {\n",
       "        vertical-align: middle;\n",
       "    }\n",
       "\n",
       "    .dataframe tbody tr th {\n",
       "        vertical-align: top;\n",
       "    }\n",
       "\n",
       "    .dataframe thead th {\n",
       "        text-align: right;\n",
       "    }\n",
       "</style>\n",
       "<table border=\"1\" class=\"dataframe\">\n",
       "  <thead>\n",
       "    <tr style=\"text-align: right;\">\n",
       "      <th></th>\n",
       "      <th>Country</th>\n",
       "      <th>Year</th>\n",
       "      <th>Captain</th>\n",
       "    </tr>\n",
       "  </thead>\n",
       "  <tbody>\n",
       "    <tr>\n",
       "      <th>0</th>\n",
       "      <td>India</td>\n",
       "      <td>2011</td>\n",
       "      <td>MS Dhoni</td>\n",
       "    </tr>\n",
       "    <tr>\n",
       "      <th>1</th>\n",
       "      <td>Australia</td>\n",
       "      <td>2015</td>\n",
       "      <td>M Clark</td>\n",
       "    </tr>\n",
       "    <tr>\n",
       "      <th>2</th>\n",
       "      <td>Pakistan</td>\n",
       "      <td>1992</td>\n",
       "      <td>Imran Khan</td>\n",
       "    </tr>\n",
       "    <tr>\n",
       "      <th>3</th>\n",
       "      <td>England</td>\n",
       "      <td>2019</td>\n",
       "      <td>Eion Morgan</td>\n",
       "    </tr>\n",
       "    <tr>\n",
       "      <th>4</th>\n",
       "      <td>Westindies</td>\n",
       "      <td>1987</td>\n",
       "      <td>Viv Richard</td>\n",
       "    </tr>\n",
       "  </tbody>\n",
       "</table>\n",
       "</div>"
      ],
      "text/plain": [
       "      Country  Year      Captain\n",
       "0       India  2011     MS Dhoni\n",
       "1   Australia  2015      M Clark\n",
       "2    Pakistan  1992   Imran Khan\n",
       "3     England  2019  Eion Morgan\n",
       "4  Westindies  1987  Viv Richard"
      ]
     },
     "execution_count": 92,
     "metadata": {},
     "output_type": "execute_result"
    }
   ],
   "source": [
    "df_list.head()"
   ]
  },
  {
   "cell_type": "code",
   "execution_count": 93,
   "id": "50e90f62",
   "metadata": {},
   "outputs": [
    {
     "data": {
      "text/html": [
       "<div>\n",
       "<style scoped>\n",
       "    .dataframe tbody tr th:only-of-type {\n",
       "        vertical-align: middle;\n",
       "    }\n",
       "\n",
       "    .dataframe tbody tr th {\n",
       "        vertical-align: top;\n",
       "    }\n",
       "\n",
       "    .dataframe thead th {\n",
       "        text-align: right;\n",
       "    }\n",
       "</style>\n",
       "<table border=\"1\" class=\"dataframe\">\n",
       "  <thead>\n",
       "    <tr style=\"text-align: right;\">\n",
       "      <th></th>\n",
       "      <th>Country</th>\n",
       "      <th>Year</th>\n",
       "      <th>Captain</th>\n",
       "    </tr>\n",
       "  </thead>\n",
       "  <tbody>\n",
       "    <tr>\n",
       "      <th>0</th>\n",
       "      <td>India</td>\n",
       "      <td>2011</td>\n",
       "      <td>MS Dhoni</td>\n",
       "    </tr>\n",
       "    <tr>\n",
       "      <th>1</th>\n",
       "      <td>Australia</td>\n",
       "      <td>2015</td>\n",
       "      <td>M Clark</td>\n",
       "    </tr>\n",
       "  </tbody>\n",
       "</table>\n",
       "</div>"
      ],
      "text/plain": [
       "     Country  Year   Captain\n",
       "0      India  2011  MS Dhoni\n",
       "1  Australia  2015   M Clark"
      ]
     },
     "execution_count": 93,
     "metadata": {},
     "output_type": "execute_result"
    }
   ],
   "source": [
    "df_list.head(2)"
   ]
  },
  {
   "cell_type": "code",
   "execution_count": 94,
   "id": "11e5c082",
   "metadata": {},
   "outputs": [
    {
     "data": {
      "text/html": [
       "<div>\n",
       "<style scoped>\n",
       "    .dataframe tbody tr th:only-of-type {\n",
       "        vertical-align: middle;\n",
       "    }\n",
       "\n",
       "    .dataframe tbody tr th {\n",
       "        vertical-align: top;\n",
       "    }\n",
       "\n",
       "    .dataframe thead th {\n",
       "        text-align: right;\n",
       "    }\n",
       "</style>\n",
       "<table border=\"1\" class=\"dataframe\">\n",
       "  <thead>\n",
       "    <tr style=\"text-align: right;\">\n",
       "      <th></th>\n",
       "      <th>Country</th>\n",
       "      <th>Year</th>\n",
       "      <th>Captain</th>\n",
       "    </tr>\n",
       "  </thead>\n",
       "  <tbody>\n",
       "    <tr>\n",
       "      <th>0</th>\n",
       "      <td>India</td>\n",
       "      <td>2011</td>\n",
       "      <td>MS Dhoni</td>\n",
       "    </tr>\n",
       "    <tr>\n",
       "      <th>1</th>\n",
       "      <td>Australia</td>\n",
       "      <td>2015</td>\n",
       "      <td>M Clark</td>\n",
       "    </tr>\n",
       "    <tr>\n",
       "      <th>2</th>\n",
       "      <td>Pakistan</td>\n",
       "      <td>1992</td>\n",
       "      <td>Imran Khan</td>\n",
       "    </tr>\n",
       "    <tr>\n",
       "      <th>3</th>\n",
       "      <td>England</td>\n",
       "      <td>2019</td>\n",
       "      <td>Eion Morgan</td>\n",
       "    </tr>\n",
       "    <tr>\n",
       "      <th>4</th>\n",
       "      <td>Westindies</td>\n",
       "      <td>1987</td>\n",
       "      <td>Viv Richard</td>\n",
       "    </tr>\n",
       "    <tr>\n",
       "      <th>5</th>\n",
       "      <td>Srilanka</td>\n",
       "      <td>1999</td>\n",
       "      <td>Arjun Ranatunga</td>\n",
       "    </tr>\n",
       "  </tbody>\n",
       "</table>\n",
       "</div>"
      ],
      "text/plain": [
       "      Country  Year          Captain\n",
       "0       India  2011         MS Dhoni\n",
       "1   Australia  2015          M Clark\n",
       "2    Pakistan  1992       Imran Khan\n",
       "3     England  2019      Eion Morgan\n",
       "4  Westindies  1987      Viv Richard\n",
       "5    Srilanka  1999  Arjun Ranatunga"
      ]
     },
     "execution_count": 94,
     "metadata": {},
     "output_type": "execute_result"
    }
   ],
   "source": [
    "df_list.head(6)"
   ]
  },
  {
   "cell_type": "code",
   "execution_count": 95,
   "id": "3114026e",
   "metadata": {},
   "outputs": [
    {
     "data": {
      "text/html": [
       "<div>\n",
       "<style scoped>\n",
       "    .dataframe tbody tr th:only-of-type {\n",
       "        vertical-align: middle;\n",
       "    }\n",
       "\n",
       "    .dataframe tbody tr th {\n",
       "        vertical-align: top;\n",
       "    }\n",
       "\n",
       "    .dataframe thead th {\n",
       "        text-align: right;\n",
       "    }\n",
       "</style>\n",
       "<table border=\"1\" class=\"dataframe\">\n",
       "  <thead>\n",
       "    <tr style=\"text-align: right;\">\n",
       "      <th></th>\n",
       "      <th>Country</th>\n",
       "      <th>Year</th>\n",
       "      <th>Captain</th>\n",
       "    </tr>\n",
       "  </thead>\n",
       "  <tbody>\n",
       "    <tr>\n",
       "      <th>1</th>\n",
       "      <td>Australia</td>\n",
       "      <td>2015</td>\n",
       "      <td>M Clark</td>\n",
       "    </tr>\n",
       "    <tr>\n",
       "      <th>2</th>\n",
       "      <td>Pakistan</td>\n",
       "      <td>1992</td>\n",
       "      <td>Imran Khan</td>\n",
       "    </tr>\n",
       "    <tr>\n",
       "      <th>3</th>\n",
       "      <td>England</td>\n",
       "      <td>2019</td>\n",
       "      <td>Eion Morgan</td>\n",
       "    </tr>\n",
       "    <tr>\n",
       "      <th>4</th>\n",
       "      <td>Westindies</td>\n",
       "      <td>1987</td>\n",
       "      <td>Viv Richard</td>\n",
       "    </tr>\n",
       "    <tr>\n",
       "      <th>5</th>\n",
       "      <td>Srilanka</td>\n",
       "      <td>1999</td>\n",
       "      <td>Arjun Ranatunga</td>\n",
       "    </tr>\n",
       "  </tbody>\n",
       "</table>\n",
       "</div>"
      ],
      "text/plain": [
       "      Country  Year          Captain\n",
       "1   Australia  2015          M Clark\n",
       "2    Pakistan  1992       Imran Khan\n",
       "3     England  2019      Eion Morgan\n",
       "4  Westindies  1987      Viv Richard\n",
       "5    Srilanka  1999  Arjun Ranatunga"
      ]
     },
     "execution_count": 95,
     "metadata": {},
     "output_type": "execute_result"
    }
   ],
   "source": [
    "df_list.tail()"
   ]
  },
  {
   "cell_type": "code",
   "execution_count": 96,
   "id": "c26368d2",
   "metadata": {},
   "outputs": [
    {
     "data": {
      "text/html": [
       "<div>\n",
       "<style scoped>\n",
       "    .dataframe tbody tr th:only-of-type {\n",
       "        vertical-align: middle;\n",
       "    }\n",
       "\n",
       "    .dataframe tbody tr th {\n",
       "        vertical-align: top;\n",
       "    }\n",
       "\n",
       "    .dataframe thead th {\n",
       "        text-align: right;\n",
       "    }\n",
       "</style>\n",
       "<table border=\"1\" class=\"dataframe\">\n",
       "  <thead>\n",
       "    <tr style=\"text-align: right;\">\n",
       "      <th></th>\n",
       "      <th>Country</th>\n",
       "      <th>Year</th>\n",
       "      <th>Captain</th>\n",
       "    </tr>\n",
       "  </thead>\n",
       "  <tbody>\n",
       "    <tr>\n",
       "      <th>0</th>\n",
       "      <td>India</td>\n",
       "      <td>2011</td>\n",
       "      <td>MS Dhoni</td>\n",
       "    </tr>\n",
       "    <tr>\n",
       "      <th>1</th>\n",
       "      <td>Australia</td>\n",
       "      <td>2015</td>\n",
       "      <td>M Clark</td>\n",
       "    </tr>\n",
       "    <tr>\n",
       "      <th>2</th>\n",
       "      <td>Pakistan</td>\n",
       "      <td>1992</td>\n",
       "      <td>Imran Khan</td>\n",
       "    </tr>\n",
       "    <tr>\n",
       "      <th>3</th>\n",
       "      <td>England</td>\n",
       "      <td>2019</td>\n",
       "      <td>Eion Morgan</td>\n",
       "    </tr>\n",
       "    <tr>\n",
       "      <th>4</th>\n",
       "      <td>Westindies</td>\n",
       "      <td>1987</td>\n",
       "      <td>Viv Richard</td>\n",
       "    </tr>\n",
       "    <tr>\n",
       "      <th>5</th>\n",
       "      <td>Srilanka</td>\n",
       "      <td>1999</td>\n",
       "      <td>Arjun Ranatunga</td>\n",
       "    </tr>\n",
       "  </tbody>\n",
       "</table>\n",
       "</div>"
      ],
      "text/plain": [
       "      Country  Year          Captain\n",
       "0       India  2011         MS Dhoni\n",
       "1   Australia  2015          M Clark\n",
       "2    Pakistan  1992       Imran Khan\n",
       "3     England  2019      Eion Morgan\n",
       "4  Westindies  1987      Viv Richard\n",
       "5    Srilanka  1999  Arjun Ranatunga"
      ]
     },
     "execution_count": 96,
     "metadata": {},
     "output_type": "execute_result"
    }
   ],
   "source": [
    "df_list.tail(6)"
   ]
  },
  {
   "cell_type": "code",
   "execution_count": 97,
   "id": "ba692457",
   "metadata": {},
   "outputs": [
    {
     "data": {
      "text/html": [
       "<div>\n",
       "<style scoped>\n",
       "    .dataframe tbody tr th:only-of-type {\n",
       "        vertical-align: middle;\n",
       "    }\n",
       "\n",
       "    .dataframe tbody tr th {\n",
       "        vertical-align: top;\n",
       "    }\n",
       "\n",
       "    .dataframe thead th {\n",
       "        text-align: right;\n",
       "    }\n",
       "</style>\n",
       "<table border=\"1\" class=\"dataframe\">\n",
       "  <thead>\n",
       "    <tr style=\"text-align: right;\">\n",
       "      <th></th>\n",
       "      <th>Year</th>\n",
       "    </tr>\n",
       "  </thead>\n",
       "  <tbody>\n",
       "    <tr>\n",
       "      <th>count</th>\n",
       "      <td>6.000000</td>\n",
       "    </tr>\n",
       "    <tr>\n",
       "      <th>mean</th>\n",
       "      <td>2003.833333</td>\n",
       "    </tr>\n",
       "    <tr>\n",
       "      <th>std</th>\n",
       "      <td>13.060117</td>\n",
       "    </tr>\n",
       "    <tr>\n",
       "      <th>min</th>\n",
       "      <td>1987.000000</td>\n",
       "    </tr>\n",
       "    <tr>\n",
       "      <th>25%</th>\n",
       "      <td>1993.750000</td>\n",
       "    </tr>\n",
       "    <tr>\n",
       "      <th>50%</th>\n",
       "      <td>2005.000000</td>\n",
       "    </tr>\n",
       "    <tr>\n",
       "      <th>75%</th>\n",
       "      <td>2014.000000</td>\n",
       "    </tr>\n",
       "    <tr>\n",
       "      <th>max</th>\n",
       "      <td>2019.000000</td>\n",
       "    </tr>\n",
       "  </tbody>\n",
       "</table>\n",
       "</div>"
      ],
      "text/plain": [
       "              Year\n",
       "count     6.000000\n",
       "mean   2003.833333\n",
       "std      13.060117\n",
       "min    1987.000000\n",
       "25%    1993.750000\n",
       "50%    2005.000000\n",
       "75%    2014.000000\n",
       "max    2019.000000"
      ]
     },
     "execution_count": 97,
     "metadata": {},
     "output_type": "execute_result"
    }
   ],
   "source": [
    "df_list.describe()"
   ]
  },
  {
   "cell_type": "code",
   "execution_count": 100,
   "id": "a536ce7e",
   "metadata": {},
   "outputs": [
    {
     "data": {
      "text/html": [
       "<div>\n",
       "<style scoped>\n",
       "    .dataframe tbody tr th:only-of-type {\n",
       "        vertical-align: middle;\n",
       "    }\n",
       "\n",
       "    .dataframe tbody tr th {\n",
       "        vertical-align: top;\n",
       "    }\n",
       "\n",
       "    .dataframe thead th {\n",
       "        text-align: right;\n",
       "    }\n",
       "</style>\n",
       "<table border=\"1\" class=\"dataframe\">\n",
       "  <thead>\n",
       "    <tr style=\"text-align: right;\">\n",
       "      <th></th>\n",
       "      <th>Country</th>\n",
       "      <th>Captain</th>\n",
       "    </tr>\n",
       "  </thead>\n",
       "  <tbody>\n",
       "    <tr>\n",
       "      <th>count</th>\n",
       "      <td>6</td>\n",
       "      <td>6</td>\n",
       "    </tr>\n",
       "    <tr>\n",
       "      <th>unique</th>\n",
       "      <td>6</td>\n",
       "      <td>6</td>\n",
       "    </tr>\n",
       "    <tr>\n",
       "      <th>top</th>\n",
       "      <td>Westindies</td>\n",
       "      <td>M Clark</td>\n",
       "    </tr>\n",
       "    <tr>\n",
       "      <th>freq</th>\n",
       "      <td>1</td>\n",
       "      <td>1</td>\n",
       "    </tr>\n",
       "  </tbody>\n",
       "</table>\n",
       "</div>"
      ],
      "text/plain": [
       "           Country  Captain\n",
       "count            6        6\n",
       "unique           6        6\n",
       "top     Westindies  M Clark\n",
       "freq             1        1"
      ]
     },
     "execution_count": 100,
     "metadata": {},
     "output_type": "execute_result"
    }
   ],
   "source": [
    "df_list.describe(include = ['O'])"
   ]
  },
  {
   "cell_type": "code",
   "execution_count": 101,
   "id": "3d679abd",
   "metadata": {},
   "outputs": [
    {
     "name": "stdout",
     "output_type": "stream",
     "text": [
      "<class 'pandas.core.frame.DataFrame'>\n",
      "RangeIndex: 6 entries, 0 to 5\n",
      "Data columns (total 3 columns):\n",
      " #   Column   Non-Null Count  Dtype \n",
      "---  ------   --------------  ----- \n",
      " 0   Country  6 non-null      object\n",
      " 1   Year     6 non-null      int64 \n",
      " 2   Captain  6 non-null      object\n",
      "dtypes: int64(1), object(2)\n",
      "memory usage: 272.0+ bytes\n"
     ]
    }
   ],
   "source": [
    "df_list.info()"
   ]
  },
  {
   "cell_type": "code",
   "execution_count": 102,
   "id": "6eebc649",
   "metadata": {},
   "outputs": [
    {
     "data": {
      "text/plain": [
       "Country    0\n",
       "Year       0\n",
       "Captain    0\n",
       "dtype: int64"
      ]
     },
     "execution_count": 102,
     "metadata": {},
     "output_type": "execute_result"
    }
   ],
   "source": [
    "df_list.isnull().sum()"
   ]
  },
  {
   "cell_type": "code",
   "execution_count": null,
   "id": "dbb05c0e",
   "metadata": {},
   "outputs": [],
   "source": []
  }
 ],
 "metadata": {
  "kernelspec": {
   "display_name": "Python 3",
   "language": "python",
   "name": "python3"
  },
  "language_info": {
   "codemirror_mode": {
    "name": "ipython",
    "version": 3
   },
   "file_extension": ".py",
   "mimetype": "text/x-python",
   "name": "python",
   "nbconvert_exporter": "python",
   "pygments_lexer": "ipython3",
   "version": "3.6.13"
  }
 },
 "nbformat": 4,
 "nbformat_minor": 5
}
